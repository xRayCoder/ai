{
 "cells": [
  {
   "cell_type": "code",
   "execution_count": 21,
   "metadata": {},
   "outputs": [
    {
     "data": {
      "text/plain": [
       "' 手动构建梯度下降公式 '"
      ]
     },
     "execution_count": 21,
     "metadata": {},
     "output_type": "execute_result"
    },
    {
     "data": {
      "text/plain": [
       "' 使用tensorFlow封装的梯度下降 '"
      ]
     },
     "execution_count": 21,
     "metadata": {},
     "output_type": "execute_result"
    },
    {
     "name": "stdout",
     "output_type": "stream",
     "text": [
      "[6.456498, 5.179294, 5.0676937, 5.0003524, 4.951445, 4.9152126, 4.888237, 4.868073, 4.852943, 4.8415394, 4.8329077, 4.8263416, 4.8213205, 4.8174644, 4.814486, 4.8121734, 4.8103704, 4.8089542]\n",
      "[[ 0.3392315 ]\n",
      " [ 0.87871593]\n",
      " [ 0.14141214]\n",
      " [-0.33312058]\n",
      " [ 0.3505228 ]\n",
      " [ 0.00310326]\n",
      " [-0.04229001]\n",
      " [-0.6885941 ]\n",
      " [-0.66374636]]\n"
     ]
    }
   ],
   "source": [
    "import tensorflow as tf\n",
    "import numpy as np\n",
    "from sklearn.datasets import fetch_california_housing\n",
    "from sklearn.preprocessing import StandardScaler\n",
    "\n",
    "n_epochs = 10000\n",
    "learning_rate = 0.01\n",
    "\n",
    "# 下载数据\n",
    "housing = fetch_california_housing(data_home='./data', download_if_missing=True)\n",
    "\n",
    "\n",
    "m, n = housing.data.shape\n",
    "housing_data_plus_bias = np.c_[np.ones((m, 1)), housing.data]\n",
    "\n",
    "# 用方差做数据归一化\n",
    "scaler = StandardScaler().fit(housing_data_plus_bias)\n",
    "scaled_housing_data_plus_bias = scaler.transform(housing_data_plus_bias)\n",
    "\n",
    "X = tf.constant(scaled_housing_data_plus_bias, dtype=tf.float32, name=\"x\")\n",
    "Y = tf.constant(housing.target.reshape(-1,1), dtype=tf.float32, name=\"y\")\n",
    "\n",
    "\n",
    "# 初始化theta\n",
    "theta = tf.Variable(tf.random_uniform([n + 1, 1], -1.0, 1.0), name=\"theta\")\n",
    "\n",
    "\n",
    "\n",
    "# 构建mse函数\n",
    "y_pred = tf.matmul(X, theta, name=\"predictions\")\n",
    "error = y_pred - Y\n",
    "mse = tf.reduce_mean(tf.square(error), name=\"mse\")\n",
    "\n",
    "\n",
    "''' 手动构建梯度下降公式 '''\n",
    "# # 梯度公式\n",
    "# gradient = 2 / m * tf.matmul(tf.transpose(X), error)\n",
    "\n",
    "# # 执行梯度下降\n",
    "# training_op = tf.assign(theta, theta - learning_rate * gradient)\n",
    "\n",
    "\n",
    "''' 使用tensorFlow封装的梯度下降 '''\n",
    "optimizer = tf.train.GradientDescentOptimizer(learning_rate=learning_rate)\n",
    "training_op = optimizer.minimize(mse)\n",
    "\n",
    "\n",
    "init = tf.global_variables_initializer()\n",
    "\n",
    "with tf.Session() as sess:\n",
    "    sess.run(init)\n",
    "    \n",
    "    # 记录MSE的值， 方便打印输出\n",
    "    result = []\n",
    "    \n",
    "    last_mse = -1\n",
    "    for epoch in range(n_epochs):\n",
    "\n",
    "        # MSE 差值小于0.00001时停止迭代\n",
    "        if last_mse >= 0 and (abs(mse.eval() - last_mse)) <= 0.00001:\n",
    "            break\n",
    "        last_mse = mse.eval()\n",
    "        \n",
    "        if epoch % 100 == 0:\n",
    "            result.append(mse.eval())\n",
    "\n",
    "        sess.run(training_op)\n",
    "        \n",
    "        \n",
    "        \n",
    "    print(result)\n",
    "    print(theta.eval())\n",
    "\n"
   ]
  },
  {
   "cell_type": "code",
   "execution_count": null,
   "metadata": {
    "collapsed": true
   },
   "outputs": [],
   "source": []
  },
  {
   "cell_type": "code",
   "execution_count": null,
   "metadata": {
    "collapsed": true
   },
   "outputs": [],
   "source": []
  },
  {
   "cell_type": "code",
   "execution_count": null,
   "metadata": {
    "collapsed": true
   },
   "outputs": [],
   "source": []
  }
 ],
 "metadata": {
  "kernelspec": {
   "display_name": "Python 3",
   "language": "python",
   "name": "python3"
  },
  "language_info": {
   "codemirror_mode": {
    "name": "ipython",
    "version": 3
   },
   "file_extension": ".py",
   "mimetype": "text/x-python",
   "name": "python",
   "nbconvert_exporter": "python",
   "pygments_lexer": "ipython3",
   "version": "3.6.3"
  }
 },
 "nbformat": 4,
 "nbformat_minor": 2
}
