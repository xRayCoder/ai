{
 "cells": [
  {
   "cell_type": "code",
   "execution_count": 9,
   "metadata": {},
   "outputs": [
    {
     "name": "stdout",
     "output_type": "stream",
     "text": [
      "20640 8\n",
      "[4.526 3.585 3.521 ... 0.923 0.847 0.894]\n",
      "['MedInc', 'HouseAge', 'AveRooms', 'AveBedrms', 'Population', 'AveOccup', 'Latitude', 'Longitude']\n",
      "[[-3.74659576e+01]\n",
      " [ 4.35208052e-01]\n",
      " [ 9.34183039e-03]\n",
      " [-1.05619654e-01]\n",
      " [ 6.38267040e-01]\n",
      " [-4.28281601e-06]\n",
      " [-3.77140474e-03]\n",
      " [-4.26884502e-01]\n",
      " [-4.40567464e-01]]\n"
     ]
    }
   ],
   "source": [
    "import tensorflow as tf\n",
    "import numpy as np\n",
    "from sklearn.datasets import fetch_california_housing\n",
    "\n",
    "\n",
    "#获取训练数据\n",
    "housing = fetch_california_housing(data_home='./data', download_if_missing=True)\n",
    "m,n = housing.data.shape\n",
    "\n",
    "print(m, n)\n",
    "print(housing.target)\n",
    "print(housing.feature_names)\n",
    "\n",
    "# 添加额外的bias作为x0，为了输出w0\n",
    "housing_data_plus_bias = np.c_[np.ones((m, 1)), housing.data]\n",
    "\n",
    "X = tf.constant(housing_data_plus_bias, dtype=tf.float32, name = 'x')\n",
    "# housing.target.reshape(-1, 1) 行向量转为列向量\n",
    "Y = tf.constant(housing.target.reshape(-1, 1), dtype=tf.float32, name='y')\n",
    "\n",
    "# 转置X矩阵\n",
    "XT = tf.transpose(X)\n",
    "\n",
    "# 使用解析解公式求解theta\n",
    "# matrix_inverse 获取矩阵的逆矩阵\n",
    "theta = tf.matmul(tf.matmul(tf.matrix_inverse(tf.matmul(XT, X)),XT),Y)\n",
    "\n",
    "# 开始tensorFlow运算\n",
    "with tf.Session() as sess:\n",
    "    theta_value = theta.eval()\n",
    "    \n",
    "    print(theta_value)\n",
    "\n"
   ]
  },
  {
   "cell_type": "code",
   "execution_count": null,
   "metadata": {
    "collapsed": true
   },
   "outputs": [],
   "source": []
  }
 ],
 "metadata": {
  "kernelspec": {
   "display_name": "Python 3",
   "language": "python",
   "name": "python3"
  },
  "language_info": {
   "codemirror_mode": {
    "name": "ipython",
    "version": 3
   },
   "file_extension": ".py",
   "mimetype": "text/x-python",
   "name": "python",
   "nbconvert_exporter": "python",
   "pygments_lexer": "ipython3",
   "version": "3.6.3"
  }
 },
 "nbformat": 4,
 "nbformat_minor": 2
}
